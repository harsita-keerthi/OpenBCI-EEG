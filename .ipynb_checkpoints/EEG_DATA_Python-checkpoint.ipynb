{
 "cells": [
  {
   "cell_type": "code",
   "execution_count": 1,
   "id": "fb5da06c",
   "metadata": {},
   "outputs": [],
   "source": [
    "from scipy.io import loadmat       # Import function to read data.\n",
    "from pylab import *                # Import numerical and plotting functions\n",
    "from IPython.lib.display import YouTubeVideo  # Enable YouTube videos\n",
    "rcParams['figure.figsize']=(12,3)  # Change the default figure size\n"
   ]
  },
  {
   "cell_type": "code",
   "execution_count": 2,
   "id": "22e07434",
   "metadata": {},
   "outputs": [
    {
     "name": "stdout",
     "output_type": "stream",
     "text": [
      "        Sample Index   EXG Channel 0   EXG Channel 1   EXG Channel 2  \\\n",
      "0                0.0    10693.566286   -10343.090933   -36753.621608   \n",
      "1                1.0    10699.109518   -10330.998639   -36746.267885   \n",
      "2                2.0    10667.772373   -10355.809075   -36775.749835   \n",
      "3                3.0    10645.822960   -10390.141355   -36800.113237   \n",
      "4                4.0    10633.618907   -10402.747739   -36803.644813   \n",
      "...              ...             ...             ...             ...   \n",
      "128496         240.0    -5050.041384    -4748.784572    -4869.975730   \n",
      "128497         241.0    -5030.461255    -4728.668002    -4865.326567   \n",
      "128498         242.0    -5045.749849    -4745.141237    -4871.808573   \n",
      "128499         243.0    -5067.162820    -4766.531857    -4876.390681   \n",
      "128500         244.0    -5055.741078    -4754.126639    -4871.205076   \n",
      "\n",
      "         EXG Channel 3   EXG Channel 4   EXG Channel 5   EXG Channel 6  \\\n",
      "0          3734.328298   -74769.960316   -28564.747103   -46453.496391   \n",
      "1          3743.939548   -74767.501625   -28558.533318   -46452.311749   \n",
      "2          3714.770521   -74799.174046   -28592.105638   -46483.224211   \n",
      "3          3649.324614   -74809.768773   -28614.457382   -46509.018124   \n",
      "4          3632.896082   -74821.995178   -28624.806240   -46528.039459   \n",
      "...                ...             ...             ...             ...   \n",
      "128496    -4806.943811     3686.003826     3677.666626   -60617.729797   \n",
      "128497    -4804.552174     3687.613152     3679.231248   -60619.383826   \n",
      "128498    -4808.664895     3687.769614     3679.387710   -60619.428530   \n",
      "128499    -4811.749436     3687.121414     3678.873620   -60619.942620   \n",
      "128500    -4808.441378     3686.540268     3678.270123   -60620.836690   \n",
      "\n",
      "         EXG Channel 7   Accel Channel 0  ...   Other.3   Other.4   Other.5  \\\n",
      "0        -21305.369890             0.132  ...      14.0     176.0       2.0   \n",
      "1        -21294.261073             0.132  ...       0.0       0.0       0.0   \n",
      "2        -21317.596295             0.132  ...       0.0       0.0       0.0   \n",
      "3        -21352.219147             0.132  ...       0.0       0.0       0.0   \n",
      "4        -21368.759438             0.132  ...       0.0       0.0       0.0   \n",
      "...                ...               ...  ...       ...       ...       ...   \n",
      "128496   -34319.650748             0.022  ...       0.0       0.0       0.0   \n",
      "128497   -34325.797477             0.022  ...       0.0       0.0       0.0   \n",
      "128498   -34321.036556             0.022  ...       0.0       0.0       0.0   \n",
      "128499   -34315.761544             0.022  ...       0.0       0.0       0.0   \n",
      "128500   -34317.370870             0.022  ...       0.0       0.0       0.0   \n",
      "\n",
      "         Other.6   Analog Channel 0   Analog Channel 1   Analog Channel 2  \\\n",
      "0          240.0                0.0                0.0                0.0   \n",
      "1            0.0                0.0                0.0                0.0   \n",
      "2            0.0                0.0                0.0                0.0   \n",
      "3            0.0                0.0                0.0                0.0   \n",
      "4            0.0                0.0                0.0                0.0   \n",
      "...          ...                ...                ...                ...   \n",
      "128496       0.0                0.0                0.0                0.0   \n",
      "128497       0.0                0.0                0.0                0.0   \n",
      "128498       0.0                0.0                0.0                0.0   \n",
      "128499       0.0                0.0                0.0                0.0   \n",
      "128500       0.0                0.0                0.0                0.0   \n",
      "\n",
      "           Timestamp   Other.7     Timestamp (Formatted)  \n",
      "0       1.695686e+09       0.0   2023-09-25 16:51:38.770  \n",
      "1       1.695686e+09       0.0   2023-09-25 16:51:38.773  \n",
      "2       1.695686e+09       0.0   2023-09-25 16:51:38.777  \n",
      "3       1.695686e+09       0.0   2023-09-25 16:51:38.781  \n",
      "4       1.695686e+09       0.0   2023-09-25 16:51:38.784  \n",
      "...              ...       ...                       ...  \n",
      "128496  1.695686e+09       0.0   2023-09-25 17:00:11.897  \n",
      "128497  1.695686e+09       0.0   2023-09-25 17:00:11.901  \n",
      "128498  1.695686e+09       0.0   2023-09-25 17:00:11.904  \n",
      "128499  1.695686e+09       0.0   2023-09-25 17:00:11.908  \n",
      "128500  1.695686e+09       0.0   2023-09-25 17:00:11.912  \n",
      "\n",
      "[128501 rows x 25 columns]\n"
     ]
    }
   ],
   "source": [
    "# Read Text Files with Pandas using read_csv() \n",
    "  \n",
    "# importing pandas \n",
    "import pandas as pd \n",
    "  \n",
    "# read text file into pandas DataFrame \n",
    "\n",
    "df = pd.read_csv('OpenBCI-RAW-2023-09-25_16-51-38.txt', delimiter = \",\")\n",
    "  \n",
    "# display DataFrame \n",
    "\n",
    "print(df)"
   ]
  },
  {
   "cell_type": "code",
   "execution_count": 3,
   "id": "91e1960c",
   "metadata": {},
   "outputs": [
    {
     "data": {
      "text/html": [
       "<div>\n",
       "<style scoped>\n",
       "    .dataframe tbody tr th:only-of-type {\n",
       "        vertical-align: middle;\n",
       "    }\n",
       "\n",
       "    .dataframe tbody tr th {\n",
       "        vertical-align: top;\n",
       "    }\n",
       "\n",
       "    .dataframe thead th {\n",
       "        text-align: right;\n",
       "    }\n",
       "</style>\n",
       "<table border=\"1\" class=\"dataframe\">\n",
       "  <thead>\n",
       "    <tr style=\"text-align: right;\">\n",
       "      <th></th>\n",
       "      <th>Sample Index</th>\n",
       "      <th>EXG Channel 0</th>\n",
       "      <th>EXG Channel 1</th>\n",
       "      <th>EXG Channel 2</th>\n",
       "      <th>EXG Channel 3</th>\n",
       "      <th>EXG Channel 4</th>\n",
       "      <th>EXG Channel 5</th>\n",
       "      <th>EXG Channel 6</th>\n",
       "      <th>EXG Channel 7</th>\n",
       "      <th>Accel Channel 0</th>\n",
       "      <th>...</th>\n",
       "      <th>Other.3</th>\n",
       "      <th>Other.4</th>\n",
       "      <th>Other.5</th>\n",
       "      <th>Other.6</th>\n",
       "      <th>Analog Channel 0</th>\n",
       "      <th>Analog Channel 1</th>\n",
       "      <th>Analog Channel 2</th>\n",
       "      <th>Timestamp</th>\n",
       "      <th>Other.7</th>\n",
       "      <th>Timestamp (Formatted)</th>\n",
       "    </tr>\n",
       "  </thead>\n",
       "  <tbody>\n",
       "    <tr>\n",
       "      <th>0</th>\n",
       "      <td>0.0</td>\n",
       "      <td>10693.566286</td>\n",
       "      <td>-10343.090933</td>\n",
       "      <td>-36753.621608</td>\n",
       "      <td>3734.328298</td>\n",
       "      <td>-74769.960316</td>\n",
       "      <td>-28564.747103</td>\n",
       "      <td>-46453.496391</td>\n",
       "      <td>-21305.369890</td>\n",
       "      <td>0.132</td>\n",
       "      <td>...</td>\n",
       "      <td>14.0</td>\n",
       "      <td>176.0</td>\n",
       "      <td>2.0</td>\n",
       "      <td>240.0</td>\n",
       "      <td>0.0</td>\n",
       "      <td>0.0</td>\n",
       "      <td>0.0</td>\n",
       "      <td>1.695686e+09</td>\n",
       "      <td>0.0</td>\n",
       "      <td>2023-09-25 16:51:38.770</td>\n",
       "    </tr>\n",
       "    <tr>\n",
       "      <th>1</th>\n",
       "      <td>1.0</td>\n",
       "      <td>10699.109518</td>\n",
       "      <td>-10330.998639</td>\n",
       "      <td>-36746.267885</td>\n",
       "      <td>3743.939548</td>\n",
       "      <td>-74767.501625</td>\n",
       "      <td>-28558.533318</td>\n",
       "      <td>-46452.311749</td>\n",
       "      <td>-21294.261073</td>\n",
       "      <td>0.132</td>\n",
       "      <td>...</td>\n",
       "      <td>0.0</td>\n",
       "      <td>0.0</td>\n",
       "      <td>0.0</td>\n",
       "      <td>0.0</td>\n",
       "      <td>0.0</td>\n",
       "      <td>0.0</td>\n",
       "      <td>0.0</td>\n",
       "      <td>1.695686e+09</td>\n",
       "      <td>0.0</td>\n",
       "      <td>2023-09-25 16:51:38.773</td>\n",
       "    </tr>\n",
       "    <tr>\n",
       "      <th>2</th>\n",
       "      <td>2.0</td>\n",
       "      <td>10667.772373</td>\n",
       "      <td>-10355.809075</td>\n",
       "      <td>-36775.749835</td>\n",
       "      <td>3714.770521</td>\n",
       "      <td>-74799.174046</td>\n",
       "      <td>-28592.105638</td>\n",
       "      <td>-46483.224211</td>\n",
       "      <td>-21317.596295</td>\n",
       "      <td>0.132</td>\n",
       "      <td>...</td>\n",
       "      <td>0.0</td>\n",
       "      <td>0.0</td>\n",
       "      <td>0.0</td>\n",
       "      <td>0.0</td>\n",
       "      <td>0.0</td>\n",
       "      <td>0.0</td>\n",
       "      <td>0.0</td>\n",
       "      <td>1.695686e+09</td>\n",
       "      <td>0.0</td>\n",
       "      <td>2023-09-25 16:51:38.777</td>\n",
       "    </tr>\n",
       "    <tr>\n",
       "      <th>3</th>\n",
       "      <td>3.0</td>\n",
       "      <td>10645.822960</td>\n",
       "      <td>-10390.141355</td>\n",
       "      <td>-36800.113237</td>\n",
       "      <td>3649.324614</td>\n",
       "      <td>-74809.768773</td>\n",
       "      <td>-28614.457382</td>\n",
       "      <td>-46509.018124</td>\n",
       "      <td>-21352.219147</td>\n",
       "      <td>0.132</td>\n",
       "      <td>...</td>\n",
       "      <td>0.0</td>\n",
       "      <td>0.0</td>\n",
       "      <td>0.0</td>\n",
       "      <td>0.0</td>\n",
       "      <td>0.0</td>\n",
       "      <td>0.0</td>\n",
       "      <td>0.0</td>\n",
       "      <td>1.695686e+09</td>\n",
       "      <td>0.0</td>\n",
       "      <td>2023-09-25 16:51:38.781</td>\n",
       "    </tr>\n",
       "    <tr>\n",
       "      <th>4</th>\n",
       "      <td>4.0</td>\n",
       "      <td>10633.618907</td>\n",
       "      <td>-10402.747739</td>\n",
       "      <td>-36803.644813</td>\n",
       "      <td>3632.896082</td>\n",
       "      <td>-74821.995178</td>\n",
       "      <td>-28624.806240</td>\n",
       "      <td>-46528.039459</td>\n",
       "      <td>-21368.759438</td>\n",
       "      <td>0.132</td>\n",
       "      <td>...</td>\n",
       "      <td>0.0</td>\n",
       "      <td>0.0</td>\n",
       "      <td>0.0</td>\n",
       "      <td>0.0</td>\n",
       "      <td>0.0</td>\n",
       "      <td>0.0</td>\n",
       "      <td>0.0</td>\n",
       "      <td>1.695686e+09</td>\n",
       "      <td>0.0</td>\n",
       "      <td>2023-09-25 16:51:38.784</td>\n",
       "    </tr>\n",
       "  </tbody>\n",
       "</table>\n",
       "<p>5 rows × 25 columns</p>\n",
       "</div>"
      ],
      "text/plain": [
       "   Sample Index   EXG Channel 0   EXG Channel 1   EXG Channel 2  \\\n",
       "0           0.0    10693.566286   -10343.090933   -36753.621608   \n",
       "1           1.0    10699.109518   -10330.998639   -36746.267885   \n",
       "2           2.0    10667.772373   -10355.809075   -36775.749835   \n",
       "3           3.0    10645.822960   -10390.141355   -36800.113237   \n",
       "4           4.0    10633.618907   -10402.747739   -36803.644813   \n",
       "\n",
       "    EXG Channel 3   EXG Channel 4   EXG Channel 5   EXG Channel 6  \\\n",
       "0     3734.328298   -74769.960316   -28564.747103   -46453.496391   \n",
       "1     3743.939548   -74767.501625   -28558.533318   -46452.311749   \n",
       "2     3714.770521   -74799.174046   -28592.105638   -46483.224211   \n",
       "3     3649.324614   -74809.768773   -28614.457382   -46509.018124   \n",
       "4     3632.896082   -74821.995178   -28624.806240   -46528.039459   \n",
       "\n",
       "    EXG Channel 7   Accel Channel 0  ...   Other.3   Other.4   Other.5  \\\n",
       "0   -21305.369890             0.132  ...      14.0     176.0       2.0   \n",
       "1   -21294.261073             0.132  ...       0.0       0.0       0.0   \n",
       "2   -21317.596295             0.132  ...       0.0       0.0       0.0   \n",
       "3   -21352.219147             0.132  ...       0.0       0.0       0.0   \n",
       "4   -21368.759438             0.132  ...       0.0       0.0       0.0   \n",
       "\n",
       "    Other.6   Analog Channel 0   Analog Channel 1   Analog Channel 2  \\\n",
       "0     240.0                0.0                0.0                0.0   \n",
       "1       0.0                0.0                0.0                0.0   \n",
       "2       0.0                0.0                0.0                0.0   \n",
       "3       0.0                0.0                0.0                0.0   \n",
       "4       0.0                0.0                0.0                0.0   \n",
       "\n",
       "      Timestamp   Other.7     Timestamp (Formatted)  \n",
       "0  1.695686e+09       0.0   2023-09-25 16:51:38.770  \n",
       "1  1.695686e+09       0.0   2023-09-25 16:51:38.773  \n",
       "2  1.695686e+09       0.0   2023-09-25 16:51:38.777  \n",
       "3  1.695686e+09       0.0   2023-09-25 16:51:38.781  \n",
       "4  1.695686e+09       0.0   2023-09-25 16:51:38.784  \n",
       "\n",
       "[5 rows x 25 columns]"
      ]
     },
     "execution_count": 3,
     "metadata": {},
     "output_type": "execute_result"
    }
   ],
   "source": [
    "\n",
    "data_top = df.head()\n",
    "data_top\n",
    "#df.drop(['Accel Channel 0'],axis=1)\n",
    "\n",
    "#df.drop(['Accel Channel 0','Other.3','Other.4','Other.5','Other.6','Other.7','Analog Channel 0','Analog Channel 1','Analog Channel 2','Timestamp (Formatted)'],axis=1)"
   ]
  },
  {
   "cell_type": "code",
   "execution_count": 4,
   "id": "a7761c55",
   "metadata": {},
   "outputs": [
    {
     "data": {
      "text/html": [
       "<div>\n",
       "<style scoped>\n",
       "    .dataframe tbody tr th:only-of-type {\n",
       "        vertical-align: middle;\n",
       "    }\n",
       "\n",
       "    .dataframe tbody tr th {\n",
       "        vertical-align: top;\n",
       "    }\n",
       "\n",
       "    .dataframe thead th {\n",
       "        text-align: right;\n",
       "    }\n",
       "</style>\n",
       "<table border=\"1\" class=\"dataframe\">\n",
       "  <thead>\n",
       "    <tr style=\"text-align: right;\">\n",
       "      <th></th>\n",
       "      <th>Sample Index</th>\n",
       "      <th>EXG Channel 0</th>\n",
       "      <th>EXG Channel 1</th>\n",
       "      <th>EXG Channel 2</th>\n",
       "      <th>EXG Channel 3</th>\n",
       "      <th>EXG Channel 4</th>\n",
       "      <th>EXG Channel 5</th>\n",
       "      <th>EXG Channel 6</th>\n",
       "      <th>EXG Channel 7</th>\n",
       "      <th>Accel Channel 0</th>\n",
       "      <th>...</th>\n",
       "      <th>Other.3</th>\n",
       "      <th>Other.4</th>\n",
       "      <th>Other.5</th>\n",
       "      <th>Other.6</th>\n",
       "      <th>Analog Channel 0</th>\n",
       "      <th>Analog Channel 1</th>\n",
       "      <th>Analog Channel 2</th>\n",
       "      <th>Timestamp</th>\n",
       "      <th>Other.7</th>\n",
       "      <th>Timestamp (Formatted)</th>\n",
       "    </tr>\n",
       "  </thead>\n",
       "  <tbody>\n",
       "    <tr>\n",
       "      <th>0</th>\n",
       "      <td>0.0</td>\n",
       "      <td>10693.566286</td>\n",
       "      <td>-10343.090933</td>\n",
       "      <td>-36753.621608</td>\n",
       "      <td>3734.328298</td>\n",
       "      <td>-74769.960316</td>\n",
       "      <td>-28564.747103</td>\n",
       "      <td>-46453.496391</td>\n",
       "      <td>-21305.369890</td>\n",
       "      <td>0.132</td>\n",
       "      <td>...</td>\n",
       "      <td>14.0</td>\n",
       "      <td>176.0</td>\n",
       "      <td>2.0</td>\n",
       "      <td>240.0</td>\n",
       "      <td>0.0</td>\n",
       "      <td>0.0</td>\n",
       "      <td>0.0</td>\n",
       "      <td>1.695686e+09</td>\n",
       "      <td>0.0</td>\n",
       "      <td>2023-09-25 16:51:38.770</td>\n",
       "    </tr>\n",
       "    <tr>\n",
       "      <th>1</th>\n",
       "      <td>1.0</td>\n",
       "      <td>10699.109518</td>\n",
       "      <td>-10330.998639</td>\n",
       "      <td>-36746.267885</td>\n",
       "      <td>3743.939548</td>\n",
       "      <td>-74767.501625</td>\n",
       "      <td>-28558.533318</td>\n",
       "      <td>-46452.311749</td>\n",
       "      <td>-21294.261073</td>\n",
       "      <td>0.132</td>\n",
       "      <td>...</td>\n",
       "      <td>0.0</td>\n",
       "      <td>0.0</td>\n",
       "      <td>0.0</td>\n",
       "      <td>0.0</td>\n",
       "      <td>0.0</td>\n",
       "      <td>0.0</td>\n",
       "      <td>0.0</td>\n",
       "      <td>1.695686e+09</td>\n",
       "      <td>0.0</td>\n",
       "      <td>2023-09-25 16:51:38.773</td>\n",
       "    </tr>\n",
       "    <tr>\n",
       "      <th>2</th>\n",
       "      <td>2.0</td>\n",
       "      <td>10667.772373</td>\n",
       "      <td>-10355.809075</td>\n",
       "      <td>-36775.749835</td>\n",
       "      <td>3714.770521</td>\n",
       "      <td>-74799.174046</td>\n",
       "      <td>-28592.105638</td>\n",
       "      <td>-46483.224211</td>\n",
       "      <td>-21317.596295</td>\n",
       "      <td>0.132</td>\n",
       "      <td>...</td>\n",
       "      <td>0.0</td>\n",
       "      <td>0.0</td>\n",
       "      <td>0.0</td>\n",
       "      <td>0.0</td>\n",
       "      <td>0.0</td>\n",
       "      <td>0.0</td>\n",
       "      <td>0.0</td>\n",
       "      <td>1.695686e+09</td>\n",
       "      <td>0.0</td>\n",
       "      <td>2023-09-25 16:51:38.777</td>\n",
       "    </tr>\n",
       "    <tr>\n",
       "      <th>3</th>\n",
       "      <td>3.0</td>\n",
       "      <td>10645.822960</td>\n",
       "      <td>-10390.141355</td>\n",
       "      <td>-36800.113237</td>\n",
       "      <td>3649.324614</td>\n",
       "      <td>-74809.768773</td>\n",
       "      <td>-28614.457382</td>\n",
       "      <td>-46509.018124</td>\n",
       "      <td>-21352.219147</td>\n",
       "      <td>0.132</td>\n",
       "      <td>...</td>\n",
       "      <td>0.0</td>\n",
       "      <td>0.0</td>\n",
       "      <td>0.0</td>\n",
       "      <td>0.0</td>\n",
       "      <td>0.0</td>\n",
       "      <td>0.0</td>\n",
       "      <td>0.0</td>\n",
       "      <td>1.695686e+09</td>\n",
       "      <td>0.0</td>\n",
       "      <td>2023-09-25 16:51:38.781</td>\n",
       "    </tr>\n",
       "    <tr>\n",
       "      <th>4</th>\n",
       "      <td>4.0</td>\n",
       "      <td>10633.618907</td>\n",
       "      <td>-10402.747739</td>\n",
       "      <td>-36803.644813</td>\n",
       "      <td>3632.896082</td>\n",
       "      <td>-74821.995178</td>\n",
       "      <td>-28624.806240</td>\n",
       "      <td>-46528.039459</td>\n",
       "      <td>-21368.759438</td>\n",
       "      <td>0.132</td>\n",
       "      <td>...</td>\n",
       "      <td>0.0</td>\n",
       "      <td>0.0</td>\n",
       "      <td>0.0</td>\n",
       "      <td>0.0</td>\n",
       "      <td>0.0</td>\n",
       "      <td>0.0</td>\n",
       "      <td>0.0</td>\n",
       "      <td>1.695686e+09</td>\n",
       "      <td>0.0</td>\n",
       "      <td>2023-09-25 16:51:38.784</td>\n",
       "    </tr>\n",
       "  </tbody>\n",
       "</table>\n",
       "<p>5 rows × 25 columns</p>\n",
       "</div>"
      ],
      "text/plain": [
       "   Sample Index   EXG Channel 0   EXG Channel 1   EXG Channel 2  \\\n",
       "0           0.0    10693.566286   -10343.090933   -36753.621608   \n",
       "1           1.0    10699.109518   -10330.998639   -36746.267885   \n",
       "2           2.0    10667.772373   -10355.809075   -36775.749835   \n",
       "3           3.0    10645.822960   -10390.141355   -36800.113237   \n",
       "4           4.0    10633.618907   -10402.747739   -36803.644813   \n",
       "\n",
       "    EXG Channel 3   EXG Channel 4   EXG Channel 5   EXG Channel 6  \\\n",
       "0     3734.328298   -74769.960316   -28564.747103   -46453.496391   \n",
       "1     3743.939548   -74767.501625   -28558.533318   -46452.311749   \n",
       "2     3714.770521   -74799.174046   -28592.105638   -46483.224211   \n",
       "3     3649.324614   -74809.768773   -28614.457382   -46509.018124   \n",
       "4     3632.896082   -74821.995178   -28624.806240   -46528.039459   \n",
       "\n",
       "    EXG Channel 7   Accel Channel 0  ...   Other.3   Other.4   Other.5  \\\n",
       "0   -21305.369890             0.132  ...      14.0     176.0       2.0   \n",
       "1   -21294.261073             0.132  ...       0.0       0.0       0.0   \n",
       "2   -21317.596295             0.132  ...       0.0       0.0       0.0   \n",
       "3   -21352.219147             0.132  ...       0.0       0.0       0.0   \n",
       "4   -21368.759438             0.132  ...       0.0       0.0       0.0   \n",
       "\n",
       "    Other.6   Analog Channel 0   Analog Channel 1   Analog Channel 2  \\\n",
       "0     240.0                0.0                0.0                0.0   \n",
       "1       0.0                0.0                0.0                0.0   \n",
       "2       0.0                0.0                0.0                0.0   \n",
       "3       0.0                0.0                0.0                0.0   \n",
       "4       0.0                0.0                0.0                0.0   \n",
       "\n",
       "      Timestamp   Other.7     Timestamp (Formatted)  \n",
       "0  1.695686e+09       0.0   2023-09-25 16:51:38.770  \n",
       "1  1.695686e+09       0.0   2023-09-25 16:51:38.773  \n",
       "2  1.695686e+09       0.0   2023-09-25 16:51:38.777  \n",
       "3  1.695686e+09       0.0   2023-09-25 16:51:38.781  \n",
       "4  1.695686e+09       0.0   2023-09-25 16:51:38.784  \n",
       "\n",
       "[5 rows x 25 columns]"
      ]
     },
     "execution_count": 4,
     "metadata": {},
     "output_type": "execute_result"
    }
   ],
   "source": [
    "df.head()"
   ]
  },
  {
   "cell_type": "code",
   "execution_count": 5,
   "id": "a7083d1b",
   "metadata": {},
   "outputs": [
    {
     "data": {
      "text/plain": [
       "['Sample Index',\n",
       " ' EXG Channel 0',\n",
       " ' EXG Channel 1',\n",
       " ' EXG Channel 2',\n",
       " ' EXG Channel 3',\n",
       " ' EXG Channel 4',\n",
       " ' EXG Channel 5',\n",
       " ' EXG Channel 6',\n",
       " ' EXG Channel 7',\n",
       " ' Accel Channel 0',\n",
       " ' Accel Channel 1',\n",
       " ' Accel Channel 2',\n",
       " ' Other',\n",
       " ' Other.1',\n",
       " ' Other.2',\n",
       " ' Other.3',\n",
       " ' Other.4',\n",
       " ' Other.5',\n",
       " ' Other.6',\n",
       " ' Analog Channel 0',\n",
       " ' Analog Channel 1',\n",
       " ' Analog Channel 2',\n",
       " ' Timestamp',\n",
       " ' Other.7',\n",
       " ' Timestamp (Formatted)']"
      ]
     },
     "execution_count": 5,
     "metadata": {},
     "output_type": "execute_result"
    }
   ],
   "source": [
    "list(df)"
   ]
  },
  {
   "cell_type": "code",
   "execution_count": 6,
   "id": "0a0df453",
   "metadata": {},
   "outputs": [],
   "source": [
    "df2 = df.drop(columns=[\" Accel Channel 0\",\" Accel Channel 1\",\" Accel Channel 2\",\" Other\",\" Other.7\",\" Other.1\",\" Other.2\",\" Other.3\",\" Other.4\",\" Other.5\",\" Other.6\",\" Analog Channel 0\",\" Analog Channel 1\",\" Analog Channel 2\",\" Timestamp (Formatted)\"])"
   ]
  },
  {
   "cell_type": "code",
   "execution_count": 7,
   "id": "f6b42dcd",
   "metadata": {},
   "outputs": [
    {
     "data": {
      "text/html": [
       "<div>\n",
       "<style scoped>\n",
       "    .dataframe tbody tr th:only-of-type {\n",
       "        vertical-align: middle;\n",
       "    }\n",
       "\n",
       "    .dataframe tbody tr th {\n",
       "        vertical-align: top;\n",
       "    }\n",
       "\n",
       "    .dataframe thead th {\n",
       "        text-align: right;\n",
       "    }\n",
       "</style>\n",
       "<table border=\"1\" class=\"dataframe\">\n",
       "  <thead>\n",
       "    <tr style=\"text-align: right;\">\n",
       "      <th></th>\n",
       "      <th>Sample Index</th>\n",
       "      <th>EXG Channel 0</th>\n",
       "      <th>EXG Channel 1</th>\n",
       "      <th>EXG Channel 2</th>\n",
       "      <th>EXG Channel 3</th>\n",
       "      <th>EXG Channel 4</th>\n",
       "      <th>EXG Channel 5</th>\n",
       "      <th>EXG Channel 6</th>\n",
       "      <th>EXG Channel 7</th>\n",
       "      <th>Timestamp</th>\n",
       "    </tr>\n",
       "  </thead>\n",
       "  <tbody>\n",
       "    <tr>\n",
       "      <th>0</th>\n",
       "      <td>0.0</td>\n",
       "      <td>10693.566286</td>\n",
       "      <td>-10343.090933</td>\n",
       "      <td>-36753.621608</td>\n",
       "      <td>3734.328298</td>\n",
       "      <td>-74769.960316</td>\n",
       "      <td>-28564.747103</td>\n",
       "      <td>-46453.496391</td>\n",
       "      <td>-21305.369890</td>\n",
       "      <td>1.695686e+09</td>\n",
       "    </tr>\n",
       "    <tr>\n",
       "      <th>1</th>\n",
       "      <td>1.0</td>\n",
       "      <td>10699.109518</td>\n",
       "      <td>-10330.998639</td>\n",
       "      <td>-36746.267885</td>\n",
       "      <td>3743.939548</td>\n",
       "      <td>-74767.501625</td>\n",
       "      <td>-28558.533318</td>\n",
       "      <td>-46452.311749</td>\n",
       "      <td>-21294.261073</td>\n",
       "      <td>1.695686e+09</td>\n",
       "    </tr>\n",
       "    <tr>\n",
       "      <th>2</th>\n",
       "      <td>2.0</td>\n",
       "      <td>10667.772373</td>\n",
       "      <td>-10355.809075</td>\n",
       "      <td>-36775.749835</td>\n",
       "      <td>3714.770521</td>\n",
       "      <td>-74799.174046</td>\n",
       "      <td>-28592.105638</td>\n",
       "      <td>-46483.224211</td>\n",
       "      <td>-21317.596295</td>\n",
       "      <td>1.695686e+09</td>\n",
       "    </tr>\n",
       "    <tr>\n",
       "      <th>3</th>\n",
       "      <td>3.0</td>\n",
       "      <td>10645.822960</td>\n",
       "      <td>-10390.141355</td>\n",
       "      <td>-36800.113237</td>\n",
       "      <td>3649.324614</td>\n",
       "      <td>-74809.768773</td>\n",
       "      <td>-28614.457382</td>\n",
       "      <td>-46509.018124</td>\n",
       "      <td>-21352.219147</td>\n",
       "      <td>1.695686e+09</td>\n",
       "    </tr>\n",
       "    <tr>\n",
       "      <th>4</th>\n",
       "      <td>4.0</td>\n",
       "      <td>10633.618907</td>\n",
       "      <td>-10402.747739</td>\n",
       "      <td>-36803.644813</td>\n",
       "      <td>3632.896082</td>\n",
       "      <td>-74821.995178</td>\n",
       "      <td>-28624.806240</td>\n",
       "      <td>-46528.039459</td>\n",
       "      <td>-21368.759438</td>\n",
       "      <td>1.695686e+09</td>\n",
       "    </tr>\n",
       "  </tbody>\n",
       "</table>\n",
       "</div>"
      ],
      "text/plain": [
       "   Sample Index   EXG Channel 0   EXG Channel 1   EXG Channel 2  \\\n",
       "0           0.0    10693.566286   -10343.090933   -36753.621608   \n",
       "1           1.0    10699.109518   -10330.998639   -36746.267885   \n",
       "2           2.0    10667.772373   -10355.809075   -36775.749835   \n",
       "3           3.0    10645.822960   -10390.141355   -36800.113237   \n",
       "4           4.0    10633.618907   -10402.747739   -36803.644813   \n",
       "\n",
       "    EXG Channel 3   EXG Channel 4   EXG Channel 5   EXG Channel 6  \\\n",
       "0     3734.328298   -74769.960316   -28564.747103   -46453.496391   \n",
       "1     3743.939548   -74767.501625   -28558.533318   -46452.311749   \n",
       "2     3714.770521   -74799.174046   -28592.105638   -46483.224211   \n",
       "3     3649.324614   -74809.768773   -28614.457382   -46509.018124   \n",
       "4     3632.896082   -74821.995178   -28624.806240   -46528.039459   \n",
       "\n",
       "    EXG Channel 7     Timestamp  \n",
       "0   -21305.369890  1.695686e+09  \n",
       "1   -21294.261073  1.695686e+09  \n",
       "2   -21317.596295  1.695686e+09  \n",
       "3   -21352.219147  1.695686e+09  \n",
       "4   -21368.759438  1.695686e+09  "
      ]
     },
     "execution_count": 7,
     "metadata": {},
     "output_type": "execute_result"
    }
   ],
   "source": [
    "df2.head()"
   ]
  },
  {
   "cell_type": "code",
   "execution_count": 8,
   "id": "ba56a929",
   "metadata": {},
   "outputs": [],
   "source": [
    "EEGdata = df2"
   ]
  },
  {
   "cell_type": "code",
   "execution_count": 9,
   "id": "2eb75f7a",
   "metadata": {},
   "outputs": [
    {
     "data": {
      "text/plain": [
       "(128501, 10)"
      ]
     },
     "execution_count": 9,
     "metadata": {},
     "output_type": "execute_result"
    }
   ],
   "source": [
    "EEGdata.shape"
   ]
  },
  {
   "cell_type": "code",
   "execution_count": 58,
   "id": "a5526953",
   "metadata": {},
   "outputs": [
    {
     "data": {
      "text/plain": [
       "Index(['Sample Index', ' EXG Channel 0', ' EXG Channel 1', ' EXG Channel 2',\n",
       "       ' EXG Channel 3', ' EXG Channel 4', ' EXG Channel 5', ' EXG Channel 6',\n",
       "       ' EXG Channel 7', ' Timestamp'],\n",
       "      dtype='object')"
      ]
     },
     "execution_count": 58,
     "metadata": {},
     "output_type": "execute_result"
    }
   ],
   "source": [
    "EEGdata.keys()"
   ]
  },
  {
   "cell_type": "code",
   "execution_count": 63,
   "id": "3b603008",
   "metadata": {},
   "outputs": [
    {
     "name": "stdout",
     "output_type": "stream",
     "text": [
      "0         1.695686e+09\n",
      "1         1.695686e+09\n",
      "2         1.695686e+09\n",
      "3         1.695686e+09\n",
      "4         1.695686e+09\n",
      "              ...     \n",
      "128496    1.695686e+09\n",
      "128497    1.695686e+09\n",
      "128498    1.695686e+09\n",
      "128499    1.695686e+09\n",
      "128500    1.695686e+09\n",
      "Name:  Timestamp, Length: 128501, dtype: float64\n"
     ]
    }
   ],
   "source": [
    "EEGa = EEGdata[' EXG Channel 0']\n",
    "EEGb = EEGdata[' EXG Channel 1']\n",
    "t = EEGdata[' Timestamp']\n",
    "print(t)"
   ]
  },
  {
   "cell_type": "code",
   "execution_count": 65,
   "id": "d9e6ee5c",
   "metadata": {},
   "outputs": [
    {
     "name": "stdout",
     "output_type": "stream",
     "text": [
      "(128501,)\n",
      "(128501,)\n",
      "128501\n",
      "128501\n"
     ]
    }
   ],
   "source": [
    "print(EEGdata[' Timestamp'].shape)\n",
    "print(t.shape)\n",
    "print(len(EEGdata[' Timestamp']))\n",
    "print(len(EEGdata[' Timestamp']))"
   ]
  },
  {
   "cell_type": "code",
   "execution_count": 69,
   "id": "e8a633ef",
   "metadata": {},
   "outputs": [
    {
     "name": "stdout",
     "output_type": "stream",
     "text": [
      "0         10693.566286\n",
      "1         10699.109518\n",
      "2         10667.772373\n",
      "3         10645.822960\n",
      "4         10633.618907\n",
      "              ...     \n",
      "128496    -5050.041384\n",
      "128497    -5030.461255\n",
      "128498    -5045.749849\n",
      "128499    -5067.162820\n",
      "128500    -5055.741078\n",
      "Name:  EXG Channel 0, Length: 128501, dtype: float64\n"
     ]
    }
   ],
   "source": [
    "print(EEGa)"
   ]
  },
  {
   "cell_type": "code",
   "execution_count": 10,
   "id": "0191eede",
   "metadata": {},
   "outputs": [],
   "source": [
    "t = EEGdata.iloc[:,9]"
   ]
  },
  {
   "cell_type": "code",
   "execution_count": 11,
   "id": "b0a6e0dd",
   "metadata": {},
   "outputs": [
    {
     "data": {
      "text/plain": [
       "128501"
      ]
     },
     "execution_count": 11,
     "metadata": {},
     "output_type": "execute_result"
    }
   ],
   "source": [
    "len(t)"
   ]
  },
  {
   "cell_type": "code",
   "execution_count": 42,
   "id": "2a45ae91",
   "metadata": {},
   "outputs": [
    {
     "name": "stdout",
     "output_type": "stream",
     "text": [
      "[0.00000000e+00 2.44212151e-03 6.45995140e-03 ... 5.13133701e+02\n",
      " 5.13137718e+02 5.13141736e+02]\n"
     ]
    }
   ],
   "source": [
    "import numpy as np\n",
    "tf = np.zeros(len(t))\n",
    "\n",
    "for i in range(len(t)-1):\n",
    "    tf[i+1] = t[i+1]-t[i] + tf[i]\n",
    "    \n",
    "print(tf)"
   ]
  },
  {
   "cell_type": "code",
   "execution_count": 45,
   "id": "dad61fa1",
   "metadata": {},
   "outputs": [],
   "source": [
    "EEGa = EEGdata.iloc[:,0:10]"
   ]
  },
  {
   "cell_type": "code",
   "execution_count": 46,
   "id": "575e0d8a",
   "metadata": {},
   "outputs": [
    {
     "data": {
      "text/plain": [
       "(128501, 10)"
      ]
     },
     "execution_count": 46,
     "metadata": {},
     "output_type": "execute_result"
    }
   ],
   "source": [
    "EEGa.shape"
   ]
  },
  {
   "cell_type": "code",
   "execution_count": 47,
   "id": "f3cb96b2",
   "metadata": {},
   "outputs": [
    {
     "name": "stdout",
     "output_type": "stream",
     "text": [
      "128501 10\n"
     ]
    }
   ],
   "source": [
    "rows,cols = EEGa.shape\n",
    "print(rows,cols)"
   ]
  },
  {
   "cell_type": "code",
   "execution_count": 49,
   "id": "014fe52e",
   "metadata": {},
   "outputs": [
    {
     "data": {
      "text/plain": [
       "128501"
      ]
     },
     "execution_count": 49,
     "metadata": {},
     "output_type": "execute_result"
    }
   ],
   "source": [
    "import numpy as np\n",
    "EEG1 = EEGa.to_numpy()\n",
    "EEG1[:,9]\n",
    "len(EEG1)"
   ]
  },
  {
   "cell_type": "code",
   "execution_count": 50,
   "id": "d422cb8b",
   "metadata": {},
   "outputs": [
    {
     "name": "stdout",
     "output_type": "stream",
     "text": [
      "[0.00000000e+00 2.44212151e-03 6.45995140e-03 ... 5.13133701e+02\n",
      " 5.13137718e+02 5.13141736e+02]\n"
     ]
    }
   ],
   "source": [
    "import numpy as np\n",
    "tf = np.zeros(len(EEG1))\n",
    "\n",
    "for i in range(len(t)-1):\n",
    "    tf[i+1] = EEG1[i+1,9]-EEG1[i,9] + tf[i]\n",
    "    \n",
    "print(tf)"
   ]
  },
  {
   "cell_type": "code",
   "execution_count": 79,
   "id": "bc059077",
   "metadata": {},
   "outputs": [
    {
     "data": {
      "image/png": "[encoded data removed]",
      "text/plain": [
       "<Figure size 432x288 with 1 Axes>"
      ]
     },
     "metadata": {
      "needs_background": "light"
     },
     "output_type": "display_data"
    }
   ],
   "source": [
    "mn = EEG1[0:1000,5]/1e6\n",
    "plot(tf[0:1000], mn, 'r', lw=3) \n",
    "xlabel('Time [s]')                              # Label the axes,\n",
    "ylabel('Voltage [$\\mu$ V]')\n",
    "title('ERP of condition A')  # ... provide a useful title,\n",
    "\n",
    "# Add a vertical line to indicate the stimulus time\n",
    "#plot([5, 5], [-80000,20000], 'k', lw=2)\n",
    "#savefig('imgs/2-2b')\n",
    "show()\n",
    "show()"
   ]
  },
  {
   "cell_type": "code",
   "execution_count": 76,
   "id": "1f775470",
   "metadata": {},
   "outputs": [
    {
     "data": {
      "image/png": "[encoded data removed]",
      "text/plain": [
       "<Figure size 864x216 with 1 Axes>"
      ]
     },
     "metadata": {
      "needs_background": "light"
     },
     "output_type": "display_data"
    }
   ],
   "source": [
    "figure(figsize=(12, 3))     # Resize the figure to make it easier to see\n",
    "plot(tf,EEGa)                 # Plot condition A, trial 1, data vs t,\n",
    "plot(tf,EEGb, 'r')            # ... and the data from condition B, trial 1,\n",
    "xlabel('Time [s]')              # Label the x-axis as time.\n",
    "ylabel('Voltage [\\mu V]')       # Label the y-axis as voltage.\n",
    "title('EEG data from conditions A (blue) and B (red), Trial 1') # And give it a title.\n",
    "#savefig('imgs/2-3')\n",
    "show()"
   ]
  },
  {
   "cell_type": "code",
   "execution_count": null,
   "id": "250e8486",
   "metadata": {},
   "outputs": [],
   "source": []
  }
 ],
 "metadata": {
  "kernelspec": {
   "display_name": "Python 3 (ipykernel)",
   "language": "python",
   "name": "python3"
  },
  "language_info": {
   "codemirror_mode": {
    "name": "ipython",
    "version": 3
   },
   "file_extension": ".py",
   "mimetype": "text/x-python",
   "name": "python",
   "nbconvert_exporter": "python",
   "pygments_lexer": "ipython3",
   "version": "3.9.17"
  }
 },
 "nbformat": 4,
 "nbformat_minor": 5
}
